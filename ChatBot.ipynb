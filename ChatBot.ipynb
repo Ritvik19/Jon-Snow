{
 "cells": [
  {
   "cell_type": "code",
   "execution_count": 1,
   "metadata": {
    "collapsed": true
   },
   "outputs": [],
   "source": [
    "import re\n",
    "import wikipedia"
   ]
  },
  {
   "cell_type": "code",
   "execution_count": 2,
   "metadata": {},
   "outputs": [
    {
     "name": "stdout",
     "output_type": "stream",
     "text": [
      "What do you want to know about?\n",
      "ms dhoni\n"
     ]
    }
   ],
   "source": [
    "query = input('What do you want to know about?\\n')"
   ]
  },
  {
   "cell_type": "code",
   "execution_count": null,
   "metadata": {},
   "outputs": [],
   "source": [
    "search_results = wikipedia.search(query)\n",
    "if len(search_results) == 0:\n",
    "    print('Sorry i cant help you with that')\n",
    "    cont = 0\n",
    "elif search_results[0] == query:\n",
    "    cont = 1\n",
    "    \n",
    "else:\n",
    "    print('Do you mean')\n",
    "    print(search_results[0], '? (yes/no)')\n",
    "    \n",
    "    if input().lower() == 'yes':\n",
    "        cont = 1\n",
    "    else:\n",
    "        cont = 0"
   ]
  },
  {
   "cell_type": "code",
   "execution_count": null,
   "metadata": {},
   "outputs": [],
   "source": [
    "if cont == 1:\n",
    "    result = wikipedia.page(query)\n",
    "    fetched_content = result.content\n",
    "    cleaned = re.split(r\"=+\", fetched_content)\n",
    "    summary = ' '.join(cleaned[0].split())\n",
    "    print(summary)\n",
    "    structured_result = []\n",
    "    for c in cleaned[1:]:\n",
    "        structured_result.append(' '.join(c.split()))\n",
    "    print('Do you want to know more about', query, '? (yes/no)')\n",
    "    ask_new = input()\n",
    "    while ask_new.lower() == 'yes':\n",
    "        new_q = input('How may I help you?')\n",
    "        i = 0 \n",
    "        flag = 0\n",
    "        while i < len(structured_result):\n",
    "            if new_q.lower() in structured_result[i].lower():\n",
    "                j = 0\n",
    "                while len(structured_result[i+j].split()) < 10:\n",
    "                    j += 1\n",
    "                print(structured_result[i+j]) \n",
    "                flag = 1\n",
    "                break\n",
    "            else:\n",
    "                i += 1\n",
    "        if flag == 0:\n",
    "            print('Sorry i cant help you with that')\n",
    "        print('\\n\\n\\n')\n",
    "        print('Do you want to know more about', query, '? (yes/no)')\n",
    "        ask_new = input()    "
   ]
  },
  {
   "cell_type": "code",
   "execution_count": null,
   "metadata": {
    "collapsed": true
   },
   "outputs": [],
   "source": []
  }
 ],
 "metadata": {
  "kernelspec": {
   "display_name": "Python 3",
   "language": "python",
   "name": "python3"
  },
  "language_info": {
   "codemirror_mode": {
    "name": "ipython",
    "version": 3
   },
   "file_extension": ".py",
   "mimetype": "text/x-python",
   "name": "python",
   "nbconvert_exporter": "python",
   "pygments_lexer": "ipython3",
   "version": "3.5.4"
  }
 },
 "nbformat": 4,
 "nbformat_minor": 2
}
