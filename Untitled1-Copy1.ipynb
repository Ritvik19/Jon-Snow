{
 "cells": [
  {
   "cell_type": "code",
   "execution_count": 1,
   "metadata": {
    "ExecuteTime": {
     "end_time": "2019-07-28T16:23:48.390217Z",
     "start_time": "2019-07-28T16:23:45.806116Z"
    }
   },
   "outputs": [
    {
     "name": "stderr",
     "output_type": "stream",
     "text": [
      "D:\\Users\\Ritvik\\Anaconda3\\envs\\datascience\\lib\\site-packages\\gensim\\utils.py:1197: UserWarning: detected Windows; aliasing chunkize to chunkize_serial\n",
      "  warnings.warn(\"detected Windows; aliasing chunkize to chunkize_serial\")\n"
     ]
    }
   ],
   "source": [
    "import numpy as np\n",
    "\n",
    "import wikipedia\n",
    "import re\n",
    "from nltk.tokenize import sent_tokenize, word_tokenize\n",
    "\n",
    "from gensim.models.doc2vec import Doc2Vec, TaggedDocument\n",
    "\n",
    "from IPython.display import clear_output"
   ]
  },
  {
   "cell_type": "code",
   "execution_count": 2,
   "metadata": {
    "ExecuteTime": {
     "end_time": "2019-07-28T16:23:52.921475Z",
     "start_time": "2019-07-28T16:23:48.393409Z"
    }
   },
   "outputs": [
    {
     "name": "stdout",
     "output_type": "stream",
     "text": [
      "Jon Snow: I will answer your queries about Google\n"
     ]
    }
   ],
   "source": [
    "botname = 'Jon Snow'\n",
    "# query = input(f'{botname}: What do you want to know about?\\nYou: ')\n",
    "query = 'Google'\n",
    "search_results = wikipedia.search(query.lower())\n",
    "if len(search_results) > 0:\n",
    "    print(f'{botname}: I will answer your queries about {search_results[0]}')\n",
    "    fetched_content = wikipedia.page(query).content\n",
    "else:\n",
    "    print('Not Found')"
   ]
  },
  {
   "cell_type": "code",
   "execution_count": 3,
   "metadata": {
    "ExecuteTime": {
     "end_time": "2019-07-28T16:23:52.931129Z",
     "start_time": "2019-07-28T16:23:52.925823Z"
    }
   },
   "outputs": [],
   "source": [
    "content = ''\n",
    "for sent in fetched_content.split('\\n'):\n",
    "    if len(sent) > 0 and not sent.startswith('='):\n",
    "        content += sent + '\\n'"
   ]
  },
  {
   "cell_type": "code",
   "execution_count": 4,
   "metadata": {
    "ExecuteTime": {
     "end_time": "2019-07-28T16:23:53.095316Z",
     "start_time": "2019-07-28T16:23:52.936117Z"
    }
   },
   "outputs": [],
   "source": [
    "def tokenize_word(text):\n",
    "    return [x.lower() for x in word_tokenize(fetched_content) if re.match(r'\\w+', x)]"
   ]
  },
  {
   "cell_type": "code",
   "execution_count": 5,
   "metadata": {
    "ExecuteTime": {
     "end_time": "2019-07-28T16:24:14.388297Z",
     "start_time": "2019-07-28T16:23:53.097332Z"
    }
   },
   "outputs": [],
   "source": [
    "data = sent_tokenize(content)\n",
    "tagged_data = [TaggedDocument(words=tokenize_word(d), tags=[str(i)]) for i, d in enumerate(data)]"
   ]
  },
  {
   "cell_type": "code",
   "execution_count": 6,
   "metadata": {
    "ExecuteTime": {
     "end_time": "2019-07-28T16:34:49.853130Z",
     "start_time": "2019-07-28T16:24:14.391211Z"
    }
   },
   "outputs": [
    {
     "name": "stdout",
     "output_type": "stream",
     "text": [
      "Model Saved\n"
     ]
    },
    {
     "name": "stderr",
     "output_type": "stream",
     "text": [
      "D:\\Users\\Ritvik\\Anaconda3\\envs\\datascience\\lib\\site-packages\\smart_open\\smart_open_lib.py:398: UserWarning: This function is deprecated, use smart_open.open instead. See the migration notes for details: https://github.com/RaRe-Technologies/smart_open/blob/master/README.rst#migrating-to-the-new-open-function\n",
      "  'See the migration notes for details: %s' % _MIGRATION_NOTES_URL\n"
     ]
    }
   ],
   "source": [
    "max_epochs = 100\n",
    "vec_size = 200\n",
    "alpha = 0.025\n",
    "\n",
    "model = Doc2Vec(vector_size=vec_size,\n",
    "                alpha=alpha, \n",
    "                min_alpha=0.00025,\n",
    "                min_count=1,\n",
    "                dm =1)\n",
    "  \n",
    "model.build_vocab(tagged_data)\n",
    "\n",
    "for epoch in range(max_epochs):\n",
    "    print('iteration {0}'.format(epoch))\n",
    "    model.train(tagged_data,\n",
    "                total_examples=model.corpus_count,\n",
    "                epochs=model.iter)\n",
    "    # decrease the learning rate\n",
    "    model.alpha -= 0.0002\n",
    "    # fix the learning rate, no decay\n",
    "    model.min_alpha = model.alpha\n",
    "    clear_output(wait=True)\n",
    "\n",
    "model.save(\"d2v.model\")\n",
    "print(\"Model Saved\")"
   ]
  },
  {
   "cell_type": "code",
   "execution_count": 7,
   "metadata": {
    "ExecuteTime": {
     "end_time": "2019-07-28T16:34:50.013700Z",
     "start_time": "2019-07-28T16:34:49.856123Z"
    }
   },
   "outputs": [
    {
     "name": "stdout",
     "output_type": "stream",
     "text": [
      "Retrieved September 28, 2010.CS1 maint: BOT: original-url status unknown (link)\n",
      "Carr, David F. (2006). 0.7670973539352417\n",
      "ISBN 978-1593157203. 0.7660855054855347\n",
      "Archived from the original on November 11, 1998. 0.7658045887947083\n",
      "It is considered one of the Big Four technology companies, alongside Amazon, Apple and Facebook.Google was founded in 1998 by Larry Page and Sergey Brin while they were Ph.D. students at Stanford University in California. 0.7638433575630188\n",
      "Google LLC is an American multinational technology company that specializes in Internet-related services and products, which include online advertising technologies, search engine, cloud computing, software, and hardware. 0.7630575895309448\n"
     ]
    }
   ],
   "source": [
    "# from gensim.models.doc2vec import Doc2Vec\n",
    "\n",
    "# model= Doc2Vec.load(\"d2v.model\")\n",
    "#to find the vector of a document which is not in training data\n",
    "test_data = tokenize_word(\"CEO of Google\")\n",
    "v1 = model.infer_vector(test_data)\n",
    "\n",
    "for sent_id, similarity in model.docvecs.most_similar([v1], topn=5):\n",
    "    print(data[int(sent_id)], similarity)"
   ]
  },
  {
   "cell_type": "code",
   "execution_count": null,
   "metadata": {},
   "outputs": [],
   "source": []
  }
 ],
 "metadata": {
  "kernelspec": {
   "display_name": "Python 3",
   "language": "python",
   "name": "python3"
  },
  "language_info": {
   "codemirror_mode": {
    "name": "ipython",
    "version": 3
   },
   "file_extension": ".py",
   "mimetype": "text/x-python",
   "name": "python",
   "nbconvert_exporter": "python",
   "pygments_lexer": "ipython3",
   "version": "3.7.3"
  },
  "toc": {
   "base_numbering": 1,
   "nav_menu": {},
   "number_sections": true,
   "sideBar": true,
   "skip_h1_title": false,
   "title_cell": "Table of Contents",
   "title_sidebar": "Contents",
   "toc_cell": false,
   "toc_position": {},
   "toc_section_display": true,
   "toc_window_display": false
  },
  "varInspector": {
   "cols": {
    "lenName": 16,
    "lenType": 16,
    "lenVar": 40
   },
   "kernels_config": {
    "python": {
     "delete_cmd_postfix": "",
     "delete_cmd_prefix": "del ",
     "library": "var_list.py",
     "varRefreshCmd": "print(var_dic_list())"
    },
    "r": {
     "delete_cmd_postfix": ") ",
     "delete_cmd_prefix": "rm(",
     "library": "var_list.r",
     "varRefreshCmd": "cat(var_dic_list()) "
    }
   },
   "types_to_exclude": [
    "module",
    "function",
    "builtin_function_or_method",
    "instance",
    "_Feature"
   ],
   "window_display": false
  }
 },
 "nbformat": 4,
 "nbformat_minor": 2
}
