{
 "cells": [
  {
   "cell_type": "markdown",
   "metadata": {
    "ExecuteTime": {
     "end_time": "2019-06-07T17:08:27.143013Z",
     "start_time": "2019-06-07T17:08:24.725265Z"
    }
   },
   "source": [
    "# Libraries"
   ]
  },
  {
   "cell_type": "code",
   "execution_count": 1,
   "metadata": {
    "ExecuteTime": {
     "end_time": "2019-06-11T18:09:02.480592Z",
     "start_time": "2019-06-11T18:09:00.628806Z"
    }
   },
   "outputs": [],
   "source": [
    "import wikipedia\n",
    "import numpy as np\n",
    "import pandas as pd\n",
    "\n",
    "import re, nltk\n",
    "\n",
    "from nltk.corpus import stopwords\n",
    "from nltk.stem.porter import PorterStemmer\n",
    "from nltk.tokenize import RegexpTokenizer\n",
    "from nltk.stem.wordnet import WordNetLemmatizer\n",
    "from nltk.tokenize import sent_tokenize\n",
    "\n",
    "from sklearn.feature_extraction.text import CountVectorizer\n",
    "from sklearn.feature_extraction.text import TfidfTransformer\n",
    "from scipy.sparse import coo_matrix\n",
    "\n",
    "from math import log"
   ]
  },
  {
   "cell_type": "markdown",
   "metadata": {},
   "source": [
    "# Text Cleaning"
   ]
  },
  {
   "cell_type": "code",
   "execution_count": 2,
   "metadata": {
    "ExecuteTime": {
     "end_time": "2019-06-11T18:09:02.513658Z",
     "start_time": "2019-06-11T18:09:02.483739Z"
    }
   },
   "outputs": [],
   "source": [
    "def spell_correct(text):\n",
    "    text = re.sub(r\"can\\'t\", \"can not\", text)\n",
    "    text = re.sub(r\"what's\", \"what is \", text)\n",
    "    text = re.sub(r\"\\'s\", \" \", text)\n",
    "    text = re.sub(r\"\\'ve\", \" have \", text)\n",
    "    text = re.sub(r\"n't\", \" not \", text)\n",
    "    text = re.sub(r\"i'm\", \"i am \", text)\n",
    "    text = re.sub(r\"\\'re\", \" are \", text)\n",
    "    text = re.sub(r\"\\'d\", \" would \", text)\n",
    "    text = re.sub(r\"\\'ll\", \" will \", text)\n",
    "    text = re.sub(r\"\\0s\", \"0\", text)    \n",
    "    return text\n",
    "\n",
    "def remove_url(text):\n",
    "    URL_REGEX = re.compile(r'''((http[s]?://)[^ <>'\"{}|\\\\^`[\\]]*)''')\n",
    "    return URL_REGEX.sub(r' ', text)\n",
    "\n",
    "def remove_handles(text):\n",
    "    HANDLES_REGEX = re.compile(r'@\\S+')\n",
    "    return HANDLES_REGEX.sub(r' ', text)\n",
    "\n",
    "def remove_incomplete_last_word(text):\n",
    "    INCOMPLETE_LAST_WORD_REGEX = re.compile(r'\\S+…')\n",
    "    return INCOMPLETE_LAST_WORD_REGEX.sub(r' ', text )\n",
    "    \n",
    "def remove_hashtags(text):\n",
    "    HASHTAGS_REGEX = re.compile(r'#\\S+')\n",
    "    return HASHTAGS_REGEX.sub(r' ', text)\n",
    "\n",
    "remove_punc = lambda x : re.sub(r\"\\W\", ' ', x)\n",
    "\n",
    "remove_num = lambda x : re.sub(r\"\\d\", ' ', x)\n",
    "\n",
    "remove_extra_spaces = lambda x : re.sub(r\"\\s+\", ' ', x)\n",
    "\n",
    "lower_case = lambda x : x.lower()\n",
    "\n",
    "remove_shortwords = lambda x: ' '.join(word for word in x.split() if len(word) > 2)\n",
    "\n",
    "with open('stopwords.txt') as f:\n",
    "    stop_words = f.readlines()\n",
    "stop_words = list(map(lambda x :x.strip(), stop_words))\n",
    "stop_words = list(set(stop_words))\n",
    "remove_stopwords = lambda x: ' '.join(word for word in x.split() if word not in stop_words)\n",
    "\n",
    "ps = PorterStemmer()\n",
    "ps_stem = lambda x: ' '.join(ps.stem(word) for word in x.split())\n",
    "\n",
    "wnl = WordNetLemmatizer()\n",
    "wnl_lemmatize = lambda x: ' '.join(wnl.lemmatize(word) for word in x.split())\n",
    "\n",
    "def tag_pos(x):\n",
    "    tag_list =  nltk.pos_tag(nltk.word_tokenize(x))\n",
    "    pos = \"\"\n",
    "    for t in tag_list:\n",
    "        pos += t[0] +'(' + t[1] +')' + ' '\n",
    "    return pos\n",
    "\n",
    "def cleanText(x, rsw, stm, lem, tgps):\n",
    "    x = str(x)\n",
    "    x = remove_url(x)\n",
    "    x = remove_handles(x)\n",
    "    x = remove_incomplete_last_word(x)\n",
    "    x = remove_hashtags(x)\n",
    "    x = lower_case(x)\n",
    "    x = spell_correct(x)\n",
    "    x = remove_punc(x)\n",
    "    x = remove_num(x)\n",
    "    x = remove_extra_spaces(x)\n",
    "    x = remove_shortwords(x)\n",
    "    \n",
    "    if rsw:\n",
    "        x = remove_stopwords(x)\n",
    "    if stm:\n",
    "        x = ps_stem(x)\n",
    "    if lem:\n",
    "        x = wnl_lemmatize(x)\n",
    "    if tgps:\n",
    "        x = tag_pos(x)\n",
    "    return x\n",
    "\n",
    "def cleanSentence(x):\n",
    "    WIKI_REGEX = re.compile(r\"\\[\\d+\\]\")\n",
    "    x =  WIKI_REGEX.sub(' ', str(x))\n",
    "    x = remove_extra_spaces(x)\n",
    "    return x"
   ]
  },
  {
   "cell_type": "code",
   "execution_count": null,
   "metadata": {
    "ExecuteTime": {
     "end_time": "2019-06-11T18:04:53.659968Z",
     "start_time": "2019-06-11T18:04:53.654981Z"
    }
   },
   "outputs": [],
   "source": []
  },
  {
   "cell_type": "markdown",
   "metadata": {},
   "source": [
    "# KeyWords Extractor"
   ]
  },
  {
   "cell_type": "code",
   "execution_count": 3,
   "metadata": {
    "ExecuteTime": {
     "end_time": "2019-06-11T18:09:02.693251Z",
     "start_time": "2019-06-11T18:09:02.517083Z"
    }
   },
   "outputs": [],
   "source": [
    "#Function for sorting tf_idf in descending order\n",
    "def sort_coo(coo_matrix):\n",
    "    tuples = zip(coo_matrix.col, coo_matrix.data)\n",
    "    return sorted(tuples, key=lambda x: (x[1], x[0]), reverse=True)\n",
    " \n",
    "def extract_topn_from_vector(feature_names, sorted_items, topn=10):\n",
    "    \"\"\"get the feature names and tf-idf score of top n items\"\"\"\n",
    "    \n",
    "    #use only topn items from vector\n",
    "    sorted_items = sorted_items[:topn]\n",
    " \n",
    "    score_vals = []\n",
    "    feature_vals = []\n",
    "    \n",
    "    # word index and corresponding tf-idf score\n",
    "    for idx, score in sorted_items:\n",
    "        \n",
    "        #keep track of feature name and its corresponding score\n",
    "        score_vals.append(round(score, 3))\n",
    "        feature_vals.append(feature_names[idx])\n",
    " \n",
    "    #create a tuples of feature,score\n",
    "    #results = zip(feature_vals,score_vals)\n",
    "    results= {}\n",
    "    for idx in range(len(feature_vals)):\n",
    "        results[feature_vals[idx]]=score_vals[idx]\n",
    "    \n",
    "    return results\n",
    "\n",
    "def extractKeyWords(data, K, index):\n",
    "    # Text Cleaning\n",
    "    corpus = data.apply(lambda x: cleanText(str(x), True, False, False, False))\n",
    "    \n",
    "    # creating a vector of words\n",
    "    cv=CountVectorizer(stop_words=stop_words)\n",
    "    X=cv.fit_transform(corpus)\n",
    "    \n",
    "    tfidf_transformer=TfidfTransformer(smooth_idf=True,use_idf=True)\n",
    "    tfidf_transformer.fit(X)\n",
    "\n",
    "    # get feature names\n",
    "    feature_names=cv.get_feature_names()\n",
    "\n",
    "    # fetch document for which keywords needs to be extracted\n",
    "    doc = cleanText(str(index), True, False, False, False)\n",
    "\n",
    "    #generate tf-idf for the given document\n",
    "    tf_idf_vector=tfidf_transformer.transform(cv.transform([doc]))\n",
    "    \n",
    "    #sort the tf-idf vectors by descending order of scores\n",
    "\n",
    "    sorted_items=sort_coo(tf_idf_vector.tocoo())\n",
    "\n",
    "    keywords=extract_topn_from_vector(feature_names,sorted_items,K)\n",
    "\n",
    "    # now print the results\n",
    "    return keywords.keys()"
   ]
  },
  {
   "cell_type": "markdown",
   "metadata": {},
   "source": [
    "# Summarizer"
   ]
  },
  {
   "cell_type": "code",
   "execution_count": 4,
   "metadata": {
    "ExecuteTime": {
     "end_time": "2019-06-11T18:09:02.824442Z",
     "start_time": "2019-06-11T18:09:02.698236Z"
    }
   },
   "outputs": [],
   "source": [
    "def idf(word, text):\n",
    "    sentences = sent_tokenize(text)\n",
    "    sentences = list(map(lambda x : cleanText(str(x), True, False, True, False), sentences))\n",
    "    N = len(sentences)\n",
    "    ni = 0\n",
    "    for sent in sentences:\n",
    "        if word in sent:\n",
    "            ni += 1\n",
    "    return log(N/ni)\n",
    "\n",
    "def diffWords(sent1, sent2):\n",
    "    sent1 = cleanText(str(sent1), True, False, True, False)\n",
    "    sent2 = cleanText(str(sent2), True, False, True, False)\n",
    "    n1 = len(sent1.split())\n",
    "    n2 = len(sent2.split())\n",
    "    n = (n1+n2)/2\n",
    "    ni = 0\n",
    "    for word in sent1.split():\n",
    "        if word in sent2.split():\n",
    "            ni += 1\n",
    "    return (n-ni)\n",
    "\n",
    "def minDiffWords(sent, lst):\n",
    "    if len(lst) == 0:\n",
    "        return 100\n",
    "    diffwords = []\n",
    "    for s in lst:\n",
    "        diffwords.append(diffWords(sent, s))\n",
    "    return min(diffwords)"
   ]
  },
  {
   "cell_type": "code",
   "execution_count": 5,
   "metadata": {
    "ExecuteTime": {
     "end_time": "2019-06-11T18:09:02.948867Z",
     "start_time": "2019-06-11T18:09:02.828429Z"
    }
   },
   "outputs": [],
   "source": [
    "def textSummarize(n, text):\n",
    "    clean_text = cleanText(str(text), True, False, True, False)     \n",
    "\n",
    "    sentences = list(sent_tokenize(str(text)))\n",
    "    \n",
    "    sentences = list(map(cleanSentence, sentences))\n",
    "    \n",
    "    \n",
    "    word2count ={}\n",
    "\n",
    "    for word in nltk.word_tokenize(clean_text):\n",
    "        if word not in stop_words:\n",
    "            if word not in word2count.keys():\n",
    "                word2count[word] = 0\n",
    "            word2count[word] += 1\n",
    "\n",
    "    for key in word2count.keys():\n",
    "        word2count[key] = word2count[key]/max(word2count.values())\n",
    "\n",
    "    word2idf = {}\n",
    "    for word in nltk.word_tokenize(clean_text):\n",
    "        if word not in stop_words:\n",
    "            if word not in word2idf.keys():\n",
    "                word2idf[word] = idf(word, text)\n",
    "        \n",
    "    sent2score = {}\n",
    "\n",
    "    for sentence in sentences:\n",
    "        for word in nltk.word_tokenize(str(sentence).lower()):\n",
    "            if word in word2count.keys():\n",
    "                if sentence not in sent2score.keys():\n",
    "                    sent2score[sentence] = 0\n",
    "                sent2score[sentence] += word2count[word]*word2idf[word]\n",
    "\n",
    "    sorted_sentences = [(k, sent2score[k]) for k in sorted(sent2score, key=sent2score.get, reverse=True)]\n",
    "\n",
    "    summary = []\n",
    "    i = 1\n",
    "    for k, v in sorted_sentences:\n",
    "        if minDiffWords(k, summary) > 4:\n",
    "            summary.append(str(k))\n",
    "            i += 1\n",
    "        if i > n:\n",
    "            break\n",
    "    summary_indices = {}\n",
    "    for s in summary:\n",
    "        summary_indices[s] = sentences.index(s)\n",
    "        \n",
    "    summary_ordered = [k for k in sorted(summary_indices, key=summary_indices.get)]\n",
    "    return summary_ordered"
   ]
  },
  {
   "cell_type": "code",
   "execution_count": 14,
   "metadata": {
    "ExecuteTime": {
     "end_time": "2019-06-11T18:11:56.799819Z",
     "start_time": "2019-06-11T18:11:56.792835Z"
    }
   },
   "outputs": [],
   "source": [
    "def matches(query, text):\n",
    "    count = 0\n",
    "    for q in query:\n",
    "        if q in text:\n",
    "            count += 1\n",
    "    return count"
   ]
  },
  {
   "cell_type": "code",
   "execution_count": null,
   "metadata": {},
   "outputs": [],
   "source": []
  },
  {
   "cell_type": "code",
   "execution_count": null,
   "metadata": {},
   "outputs": [],
   "source": []
  },
  {
   "cell_type": "code",
   "execution_count": 24,
   "metadata": {
    "ExecuteTime": {
     "end_time": "2019-06-11T18:25:38.142884Z",
     "start_time": "2019-06-11T18:24:13.881963Z"
    }
   },
   "outputs": [
    {
     "name": "stdout",
     "output_type": "stream",
     "text": [
      "Maester Pymon: What do you want to know about?\n",
      "You: jaime lannister\n",
      "Maester Pymon: I will answer your queries about Jaime Lannister\n",
      "You: ok\n",
      "Maester Pymon:\n",
      "Jaime Lannister is a fictional character in the A Song of Ice and Fire series of fantasy novels by American author George R. R. Martin, and its television adaptation Game of Thrones. He becomes a prominent point of view character in the novels beginning in A Storm of Swords (2000).\n",
      "Introduced in A Game of Thrones (1996), Jaime is a knight of the Kingsguard and a member of House Lannister, the wealthiest and one of the most powerful families in the kingdom of Westeros.\n",
      "You: who chopped his hand\n",
      "['chopped', 'hand']\n"
     ]
    },
    {
     "name": "stderr",
     "output_type": "stream",
     "text": [
      "D:\\Users\\Ritvik\\Anaconda3\\envs\\datascience\\lib\\site-packages\\ipykernel_launcher.py:34: SettingWithCopyWarning: \n",
      "A value is trying to be set on a copy of a slice from a DataFrame\n",
      "\n",
      "See the caveats in the documentation: http://pandas.pydata.org/pandas-docs/stable/indexing.html#indexing-view-versus-copy\n"
     ]
    },
    {
     "name": "stdout",
     "output_type": "stream",
     "text": [
      "Maester Pymon:\n",
      "In A Game of Thrones (1996), Jaime is introduced as one of the Kingsguard, the royal security detail, and the son of wealthy and powerful Tywin Lannister, the former Hand of the King. Jaime's twin is Cersei, the Queen of Westeros by virtue of her marriage to King Robert Baratheon. Perhaps the greatest swordsman in the kingdom, Jaime is derisively referred to as \"the Kingslayer\" because he killed the \"Mad King\" Aerys Targaryen in the coup that put Robert on the Iron Throne.Eric Dodds of Time described Jaime as \"handsome, an incomparably skilled fighter and disarmingly witty\", with The New Yorker calling the Lannisters \"a crowd of high-cheekboned beauties ... who form a family constellation so twisted, charismatic, and cruel that it rivals Flowers in the Attic for blond dysfunction\". Lev Grossman wrote for Time that while Jaime and Cersei's younger brother Tyrion is a grotesque dwarf, \"the rest of the Lannisters are stunted too, but on the inside.\" The Los Angeles Times called Jaime \"handsome and unscrupulous\", though Dodds noted in 2014: Sure, he's done some of the most despicable things on a show full of despicable things—including but not limited to fathering children by incest, attempting to murder a boy who discovered said incest, and the cold-blooded murder of one of his own cousins—but despite all that, the Kingslayer remains one of Game of Thrones' most popular characters.\n",
      "You: \n",
      "[]\n",
      "Maester Pymon:\n",
      "In A Game of Thrones (1996), Jaime is introduced as one of the Kingsguard, the royal security detail, and the son of wealthy and powerful Tywin Lannister, the former Hand of the King. Jaime's twin is Cersei, the Queen of Westeros by virtue of her marriage to King Robert Baratheon. Perhaps the greatest swordsman in the kingdom, Jaime is derisively referred to as \"the Kingslayer\" because he killed the \"Mad King\" Aerys Targaryen in the coup that put Robert on the Iron Throne.Eric Dodds of Time described Jaime as \"handsome, an incomparably skilled fighter and disarmingly witty\", with The New Yorker calling the Lannisters \"a crowd of high-cheekboned beauties ... who form a family constellation so twisted, charismatic, and cruel that it rivals Flowers in the Attic for blond dysfunction\". Lev Grossman wrote for Time that while Jaime and Cersei's younger brother Tyrion is a grotesque dwarf, \"the rest of the Lannisters are stunted too, but on the inside.\" The Los Angeles Times called Jaime \"handsome and unscrupulous\", though Dodds noted in 2014: Sure, he's done some of the most despicable things on a show full of despicable things—including but not limited to fathering children by incest, attempting to murder a boy who discovered said incest, and the cold-blooded murder of one of his own cousins—but despite all that, the Kingslayer remains one of Game of Thrones' most popular characters.\n"
     ]
    }
   ],
   "source": [
    "botname = 'Maester Pymon'\n",
    "query = input(f'{botname}: What do you want to know about?\\nYou: ')\n",
    "search_results = wikipedia.search(query.lower())\n",
    "if len(search_results) > 0:\n",
    "    print(f'{botname}: I will answer your queries about {search_results[0]}')\n",
    "    input('You: ')\n",
    "    print(f'{botname}:\\n{wikipedia.summary(search_results[0], sentences=3)}')\n",
    "    \n",
    "    fetched_content = wikipedia.page(query).content\n",
    "\n",
    "    cleaned = re.split(r\"=+\", fetched_content)\n",
    "    structured_result = []\n",
    "    for c in cleaned[1:]:\n",
    "        structured_result.append(' '.join(c.split()))\n",
    "\n",
    "    all_contents = []\n",
    "    for i, e in enumerate(structured_result):\n",
    "        if len(e.strip().split()) > 9:\n",
    "            all_contents.append(e.strip())\n",
    "\n",
    "    all_contents = pd.DataFrame(all_contents)\n",
    "\n",
    "    all_contents.columns = ['Text']\n",
    "    \n",
    "\n",
    "    all_contents['Tokens'] = all_contents['Text'].apply(lambda x :cleanText(str(x), True, False, True, False))\n",
    "    \n",
    "    q = ''\n",
    "    while q != []:\n",
    "        q = cleanText(input('You: '), True, False, True, False).split()\n",
    "        print(q)\n",
    "        all_contents['scores'] = 0\n",
    "        for i in range(len(all_contents)):\n",
    "            all_contents['scores'][i] = matches(['lost', 'hand'],all_contents.loc[i]['Tokens'])\n",
    "        print(f'{botname}:\\n{all_contents.sort_values(\"scores\", ascending=False).iloc[0][\"Text\"]}')\n",
    "else:\n",
    "    print('Not Found')"
   ]
  },
  {
   "cell_type": "code",
   "execution_count": 25,
   "metadata": {
    "ExecuteTime": {
     "end_time": "2019-06-11T18:25:40.916901Z",
     "start_time": "2019-06-11T18:25:40.897952Z"
    }
   },
   "outputs": [
    {
     "data": {
      "text/html": [
       "<div>\n",
       "<style scoped>\n",
       "    .dataframe tbody tr th:only-of-type {\n",
       "        vertical-align: middle;\n",
       "    }\n",
       "\n",
       "    .dataframe tbody tr th {\n",
       "        vertical-align: top;\n",
       "    }\n",
       "\n",
       "    .dataframe thead th {\n",
       "        text-align: right;\n",
       "    }\n",
       "</style>\n",
       "<table border=\"1\" class=\"dataframe\">\n",
       "  <thead>\n",
       "    <tr style=\"text-align: right;\">\n",
       "      <th></th>\n",
       "      <th>Text</th>\n",
       "      <th>Tokens</th>\n",
       "      <th>scores</th>\n",
       "    </tr>\n",
       "  </thead>\n",
       "  <tbody>\n",
       "    <tr>\n",
       "      <th>0</th>\n",
       "      <td>In A Game of Thrones (1996), Jaime is introduc...</td>\n",
       "      <td>game throne jaime introduced kingsguard royal ...</td>\n",
       "      <td>1</td>\n",
       "    </tr>\n",
       "    <tr>\n",
       "      <th>1</th>\n",
       "      <td>Darren Franich of Entertainment Weekly noted t...</td>\n",
       "      <td>darren franich entertainment weekly noted nove...</td>\n",
       "      <td>1</td>\n",
       "    </tr>\n",
       "    <tr>\n",
       "      <th>2</th>\n",
       "      <td>Jaime Lannister accompanies the royal family t...</td>\n",
       "      <td>jaime lannister accompanies royal family winte...</td>\n",
       "      <td>1</td>\n",
       "    </tr>\n",
       "    <tr>\n",
       "      <th>3</th>\n",
       "      <td>Tyrion makes several attempts to free Jaime, f...</td>\n",
       "      <td>tyrion make attempt free jaime disguised lanni...</td>\n",
       "      <td>0</td>\n",
       "    </tr>\n",
       "    <tr>\n",
       "      <th>4</th>\n",
       "      <td>Jaime is freed by Catelyn and sent to King's L...</td>\n",
       "      <td>jaime freed catelyn sent king landing exchange...</td>\n",
       "      <td>1</td>\n",
       "    </tr>\n",
       "    <tr>\n",
       "      <th>5</th>\n",
       "      <td>Jaime and Cersei's relationship breaks down af...</td>\n",
       "      <td>jaime cersei relationship break repeatedly dec...</td>\n",
       "      <td>1</td>\n",
       "    </tr>\n",
       "    <tr>\n",
       "      <th>6</th>\n",
       "      <td>Jaime travels to Raventree Hall and negotiates...</td>\n",
       "      <td>jaime travel raventree hall negotiates lord ty...</td>\n",
       "      <td>0</td>\n",
       "    </tr>\n",
       "    <tr>\n",
       "      <th>7</th>\n",
       "      <td>Jaime is portrayed by Danish actor Nikolaj Cos...</td>\n",
       "      <td>jaime portrayed danish actor nikolaj coster wa...</td>\n",
       "      <td>1</td>\n",
       "    </tr>\n",
       "    <tr>\n",
       "      <th>8</th>\n",
       "      <td>Jaime's storyline in the first season remains,...</td>\n",
       "      <td>jaime storyline season remains identical book ...</td>\n",
       "      <td>0</td>\n",
       "    </tr>\n",
       "    <tr>\n",
       "      <th>9</th>\n",
       "      <td>Robb brings a captive Jaime with his camp as t...</td>\n",
       "      <td>robb brings captive jaime camp march westerlan...</td>\n",
       "      <td>0</td>\n",
       "    </tr>\n",
       "    <tr>\n",
       "      <th>10</th>\n",
       "      <td>Jaime and Brienne are captured by a squad of B...</td>\n",
       "      <td>jaime brienne captured squad bolton soldier ja...</td>\n",
       "      <td>1</td>\n",
       "    </tr>\n",
       "    <tr>\n",
       "      <th>11</th>\n",
       "      <td>Tywin gifts Jaime a Valyrian steel sword forge...</td>\n",
       "      <td>tywin gift jaime valyrian steel sword forged h...</td>\n",
       "      <td>1</td>\n",
       "    </tr>\n",
       "    <tr>\n",
       "      <th>12</th>\n",
       "      <td>Cersei guilts Jaime for releasing Tyrion, and ...</td>\n",
       "      <td>cersei guilt jaime releasing tyrion jaime late...</td>\n",
       "      <td>0</td>\n",
       "    </tr>\n",
       "    <tr>\n",
       "      <th>13</th>\n",
       "      <td>Jaime returns to King's Landing with Myrcella'...</td>\n",
       "      <td>jaime return king landing myrcella corpse orde...</td>\n",
       "      <td>0</td>\n",
       "    </tr>\n",
       "    <tr>\n",
       "      <th>14</th>\n",
       "      <td>Despite his discomfort at the circumstances le...</td>\n",
       "      <td>despite discomfort circumstance leading cersei...</td>\n",
       "      <td>1</td>\n",
       "    </tr>\n",
       "    <tr>\n",
       "      <th>15</th>\n",
       "      <td>Jaime arrives in Winterfell and encounters Bra...</td>\n",
       "      <td>jaime arrives winterfell encounter bran waitin...</td>\n",
       "      <td>0</td>\n",
       "    </tr>\n",
       "    <tr>\n",
       "      <th>16</th>\n",
       "      <td>Matt Roush wrote for TV Guide that Coster-Wald...</td>\n",
       "      <td>matt roush wrote guide coster waldau play dast...</td>\n",
       "      <td>0</td>\n",
       "    </tr>\n",
       "    <tr>\n",
       "      <th>17</th>\n",
       "      <td>Coster-Waldau has received several nominations...</td>\n",
       "      <td>coster waldau received nomination portrayal ja...</td>\n",
       "      <td>0</td>\n",
       "    </tr>\n",
       "  </tbody>\n",
       "</table>\n",
       "</div>"
      ],
      "text/plain": [
       "                                                 Text  \\\n",
       "0   In A Game of Thrones (1996), Jaime is introduc...   \n",
       "1   Darren Franich of Entertainment Weekly noted t...   \n",
       "2   Jaime Lannister accompanies the royal family t...   \n",
       "3   Tyrion makes several attempts to free Jaime, f...   \n",
       "4   Jaime is freed by Catelyn and sent to King's L...   \n",
       "5   Jaime and Cersei's relationship breaks down af...   \n",
       "6   Jaime travels to Raventree Hall and negotiates...   \n",
       "7   Jaime is portrayed by Danish actor Nikolaj Cos...   \n",
       "8   Jaime's storyline in the first season remains,...   \n",
       "9   Robb brings a captive Jaime with his camp as t...   \n",
       "10  Jaime and Brienne are captured by a squad of B...   \n",
       "11  Tywin gifts Jaime a Valyrian steel sword forge...   \n",
       "12  Cersei guilts Jaime for releasing Tyrion, and ...   \n",
       "13  Jaime returns to King's Landing with Myrcella'...   \n",
       "14  Despite his discomfort at the circumstances le...   \n",
       "15  Jaime arrives in Winterfell and encounters Bra...   \n",
       "16  Matt Roush wrote for TV Guide that Coster-Wald...   \n",
       "17  Coster-Waldau has received several nominations...   \n",
       "\n",
       "                                               Tokens  scores  \n",
       "0   game throne jaime introduced kingsguard royal ...       1  \n",
       "1   darren franich entertainment weekly noted nove...       1  \n",
       "2   jaime lannister accompanies royal family winte...       1  \n",
       "3   tyrion make attempt free jaime disguised lanni...       0  \n",
       "4   jaime freed catelyn sent king landing exchange...       1  \n",
       "5   jaime cersei relationship break repeatedly dec...       1  \n",
       "6   jaime travel raventree hall negotiates lord ty...       0  \n",
       "7   jaime portrayed danish actor nikolaj coster wa...       1  \n",
       "8   jaime storyline season remains identical book ...       0  \n",
       "9   robb brings captive jaime camp march westerlan...       0  \n",
       "10  jaime brienne captured squad bolton soldier ja...       1  \n",
       "11  tywin gift jaime valyrian steel sword forged h...       1  \n",
       "12  cersei guilt jaime releasing tyrion jaime late...       0  \n",
       "13  jaime return king landing myrcella corpse orde...       0  \n",
       "14  despite discomfort circumstance leading cersei...       1  \n",
       "15  jaime arrives winterfell encounter bran waitin...       0  \n",
       "16  matt roush wrote guide coster waldau play dast...       0  \n",
       "17  coster waldau received nomination portrayal ja...       0  "
      ]
     },
     "execution_count": 25,
     "metadata": {},
     "output_type": "execute_result"
    }
   ],
   "source": [
    "all_contents"
   ]
  },
  {
   "cell_type": "code",
   "execution_count": 21,
   "metadata": {
    "ExecuteTime": {
     "end_time": "2019-06-11T18:19:13.697341Z",
     "start_time": "2019-06-11T18:19:10.950646Z"
    }
   },
   "outputs": [
    {
     "name": "stderr",
     "output_type": "stream",
     "text": [
      "D:\\Users\\Ritvik\\Anaconda3\\envs\\datascience\\lib\\site-packages\\ipykernel_launcher.py:2: SettingWithCopyWarning: \n",
      "A value is trying to be set on a copy of a slice from a DataFrame\n",
      "\n",
      "See the caveats in the documentation: http://pandas.pydata.org/pandas-docs/stable/indexing.html#indexing-view-versus-copy\n",
      "  \n"
     ]
    }
   ],
   "source": []
  },
  {
   "cell_type": "code",
   "execution_count": 26,
   "metadata": {
    "ExecuteTime": {
     "end_time": "2019-06-11T18:27:52.526514Z",
     "start_time": "2019-06-11T18:27:52.517537Z"
    }
   },
   "outputs": [
    {
     "data": {
      "text/plain": [
       "'jaime brienne captured squad bolton soldier jaime manages convince rape brienne leader locke take umbrage jaime try use status secure release chop jaime sword hand taken harrenhal maester qyburn treat jaime wound jaime reveals brienne killed aery roose bolton let jaime return king landing insists keeping brienne prisoner abetting treason jaime ultimately return rescue brienne killed bear locke amusement return king landing jaime reunited cersei'"
      ]
     },
     "execution_count": 26,
     "metadata": {},
     "output_type": "execute_result"
    }
   ],
   "source": [
    "all_contents.loc[10]['Tokens']"
   ]
  },
  {
   "cell_type": "markdown",
   "metadata": {
    "ExecuteTime": {
     "end_time": "2019-06-11T18:44:20.219751Z",
     "start_time": "2019-06-11T18:44:20.213773Z"
    }
   },
   "source": [
    "**fuzzywuzzy**"
   ]
  },
  {
   "cell_type": "code",
   "execution_count": null,
   "metadata": {},
   "outputs": [],
   "source": []
  },
  {
   "cell_type": "code",
   "execution_count": null,
   "metadata": {},
   "outputs": [],
   "source": []
  },
  {
   "cell_type": "code",
   "execution_count": null,
   "metadata": {
    "ExecuteTime": {
     "end_time": "2019-06-11T18:10:24.677415Z",
     "start_time": "2019-06-11T18:09:00.695Z"
    }
   },
   "outputs": [],
   "source": [
    "a/0"
   ]
  },
  {
   "cell_type": "code",
   "execution_count": null,
   "metadata": {
    "ExecuteTime": {
     "end_time": "2019-06-11T18:10:24.681403Z",
     "start_time": "2019-06-11T18:09:00.699Z"
    }
   },
   "outputs": [],
   "source": [
    "query = \"mahendra singh dhoni\""
   ]
  },
  {
   "cell_type": "code",
   "execution_count": null,
   "metadata": {
    "ExecuteTime": {
     "end_time": "2019-06-11T18:10:24.685394Z",
     "start_time": "2019-06-11T18:09:00.703Z"
    }
   },
   "outputs": [],
   "source": [
    "fetched_content = wikipedia.page(query).content\n",
    "\n",
    "cleaned = re.split(r\"=+\", fetched_content)\n",
    "structured_result = []\n",
    "for c in cleaned[1:]:\n",
    "    structured_result.append(' '.join(c.split()))\n",
    "\n",
    "all_contents = []\n",
    "for i, e in enumerate(structured_result):\n",
    "    if len(e.strip().split()) > 9:\n",
    "        all_contents.append(e.strip())\n",
    "\n",
    "all_contents = pd.DataFrame(all_contents)\n",
    "\n",
    "all_contents.columns = ['Text']\n",
    "\n",
    "all_contents['Keywords'] = all_contents['Text'].apply(lambda x :extractKeyWords(all_contents['Text'], 10, x))"
   ]
  },
  {
   "cell_type": "code",
   "execution_count": null,
   "metadata": {
    "ExecuteTime": {
     "end_time": "2019-06-11T18:10:24.688386Z",
     "start_time": "2019-06-11T18:09:00.709Z"
    }
   },
   "outputs": [],
   "source": [
    "all_contents"
   ]
  },
  {
   "cell_type": "code",
   "execution_count": null,
   "metadata": {
    "ExecuteTime": {
     "end_time": "2019-06-11T18:10:24.690381Z",
     "start_time": "2019-06-11T18:09:00.714Z"
    }
   },
   "outputs": [],
   "source": [
    "q = cleanText(input(' '), True, False, True, False).split()"
   ]
  },
  {
   "cell_type": "code",
   "execution_count": null,
   "metadata": {
    "ExecuteTime": {
     "end_time": "2019-06-11T18:10:24.692375Z",
     "start_time": "2019-06-11T18:09:00.718Z"
    }
   },
   "outputs": [],
   "source": [
    "q"
   ]
  },
  {
   "cell_type": "code",
   "execution_count": null,
   "metadata": {
    "ExecuteTime": {
     "end_time": "2019-06-11T17:42:26.021798Z",
     "start_time": "2019-06-11T17:42:26.015814Z"
    }
   },
   "outputs": [],
   "source": []
  },
  {
   "cell_type": "code",
   "execution_count": null,
   "metadata": {
    "ExecuteTime": {
     "end_time": "2019-06-11T18:10:24.694370Z",
     "start_time": "2019-06-11T18:09:00.725Z"
    }
   },
   "outputs": [],
   "source": [
    "all_contents['scores'] = all_contents['Keywords'].apply(lambda x : matcher(q, x))"
   ]
  },
  {
   "cell_type": "code",
   "execution_count": null,
   "metadata": {
    "ExecuteTime": {
     "end_time": "2019-06-11T18:10:24.698359Z",
     "start_time": "2019-06-11T18:09:00.731Z"
    }
   },
   "outputs": [],
   "source": [
    "all_contents['Text'][17]"
   ]
  },
  {
   "cell_type": "code",
   "execution_count": null,
   "metadata": {
    "ExecuteTime": {
     "end_time": "2019-06-11T18:10:24.702348Z",
     "start_time": "2019-06-11T18:09:00.736Z"
    }
   },
   "outputs": [],
   "source": [
    "all_contents.sort_values('scores', ascending=False).iloc[0]['Text']"
   ]
  },
  {
   "cell_type": "code",
   "execution_count": null,
   "metadata": {},
   "outputs": [],
   "source": []
  }
 ],
 "metadata": {
  "kernelspec": {
   "display_name": "Python 3",
   "language": "python",
   "name": "python3"
  },
  "language_info": {
   "codemirror_mode": {
    "name": "ipython",
    "version": 3
   },
   "file_extension": ".py",
   "mimetype": "text/x-python",
   "name": "python",
   "nbconvert_exporter": "python",
   "pygments_lexer": "ipython3",
   "version": "3.7.3"
  },
  "toc": {
   "base_numbering": 1,
   "nav_menu": {},
   "number_sections": true,
   "sideBar": true,
   "skip_h1_title": false,
   "title_cell": "Table of Contents",
   "title_sidebar": "Contents",
   "toc_cell": false,
   "toc_position": {},
   "toc_section_display": true,
   "toc_window_display": false
  },
  "varInspector": {
   "cols": {
    "lenName": 16,
    "lenType": 16,
    "lenVar": 40
   },
   "kernels_config": {
    "python": {
     "delete_cmd_postfix": "",
     "delete_cmd_prefix": "del ",
     "library": "var_list.py",
     "varRefreshCmd": "print(var_dic_list())"
    },
    "r": {
     "delete_cmd_postfix": ") ",
     "delete_cmd_prefix": "rm(",
     "library": "var_list.r",
     "varRefreshCmd": "cat(var_dic_list()) "
    }
   },
   "types_to_exclude": [
    "module",
    "function",
    "builtin_function_or_method",
    "instance",
    "_Feature"
   ],
   "window_display": false
  }
 },
 "nbformat": 4,
 "nbformat_minor": 2
}
